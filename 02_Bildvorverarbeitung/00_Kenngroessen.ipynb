{
 "cells": [
  {
   "cell_type": "code",
   "execution_count": 5,
   "id": "87bf5717",
   "metadata": {
    "ExecuteTime": {
     "end_time": "2023-10-13T13:00:34.562262500Z",
     "start_time": "2023-10-13T13:00:34.549534100Z"
    }
   },
   "outputs": [],
   "source": [
    "import cv2\n",
    "import cv2 as cv\n",
    "from matplotlib import pyplot as plt\n",
    "import numpy as np"
   ]
  },
  {
   "cell_type": "markdown",
   "id": "5936ad99",
   "metadata": {},
   "source": [
    "# Grundlegende Kenngrößen eines digitalen Bildes"
   ]
  },
  {
   "cell_type": "markdown",
   "source": [],
   "metadata": {
    "collapsed": false
   },
   "id": "dcb4affe681bfbe4"
  },
  {
   "cell_type": "code",
   "execution_count": 6,
   "id": "e697a8be",
   "metadata": {
    "ExecuteTime": {
     "end_time": "2023-10-13T13:00:36.056221500Z",
     "start_time": "2023-10-13T13:00:34.561593300Z"
    }
   },
   "outputs": [
    {
     "data": {
      "text/plain": "<Figure size 2000x1000 with 4 Axes>",
      "image/png": "[encoded data removed]"
     },
     "metadata": {},
     "output_type": "display_data"
    }
   ],
   "source": [
    "# ToDo: Untersuchen wie sich Mittelwert und Varianz verändert wenn das Blurrr erhöht wird\n",
    "img_circle1 = cv.imread('./img/circle_0.bmp', cv.IMREAD_GRAYSCALE)\n",
    "img_circle2 = cv.imread('./img/circle_3.bmp', cv.IMREAD_GRAYSCALE)\n",
    "img_circle3 = cv.imread('./img/circle_6.bmp', cv.IMREAD_GRAYSCALE)\n",
    "img_circle4 = cv.imread('./img/circle_9.bmp', cv.IMREAD_GRAYSCALE)\n",
    "\n",
    "plt.figure(figsize=(20,10))\n",
    "plt.subplot(1,4,1)\n",
    "plt.imshow(img_circle1, cmap='gray')\n",
    "plt.title('Original')\n",
    "plt.subplot(1,4,2)\n",
    "plt.imshow(img_circle2, cmap='gray')\n",
    "plt.title('3x Blur')\n",
    "plt.subplot(1,4,3)\n",
    "plt.imshow(img_circle3, cmap='gray')\n",
    "plt.title('6x Blur')\n",
    "plt.subplot(1,4,4)\n",
    "plt.imshow(img_circle4, cmap='gray')\n",
    "plt.title('9x Blur')\n",
    "plt.show()"
   ]
  },
  {
   "cell_type": "code",
   "execution_count": 28,
   "id": "dd57c6fd",
   "metadata": {
    "ExecuteTime": {
     "end_time": "2023-10-13T13:03:40.776897200Z",
     "start_time": "2023-10-13T13:03:40.763706400Z"
    }
   },
   "outputs": [],
   "source": [
    "# Todo: Funktion zur Berechnung des Mittelwertes eines Bildes img\n",
    "def calc_mean(img): \n",
    "    w = len(img[0])\n",
    "    h = len(img)\n",
    "\n",
    "    summe = 0.0\n",
    "    for reihe in range(h):\n",
    "        for pixel in range(w):\n",
    "            summe += img[reihe, pixel]\n",
    "    return (summe/(w*h))"
   ]
  },
  {
   "cell_type": "code",
   "execution_count": 29,
   "id": "a3c25ec8",
   "metadata": {
    "ExecuteTime": {
     "end_time": "2023-10-13T13:03:42.496494700Z",
     "start_time": "2023-10-13T13:03:42.473763800Z"
    }
   },
   "outputs": [
    {
     "name": "stdout",
     "output_type": "stream",
     "text": [
      "Mittelwerte der 4 Bilder:  [200.3  200.19 199.92 199.51]\n"
     ]
    }
   ],
   "source": [
    "# Berechne Mittelwert für alle Bilder\n",
    "mean = [calc_mean(img_circle1), calc_mean(img_circle2), calc_mean(img_circle3), calc_mean(img_circle4)]\n",
    "mean = np.round(mean, 2)\n",
    "print('Mittelwerte der 4 Bilder: ', mean)"
   ]
  },
  {
   "cell_type": "code",
   "execution_count": 38,
   "id": "55a18195",
   "metadata": {
    "ExecuteTime": {
     "end_time": "2023-10-13T13:07:20.853539900Z",
     "start_time": "2023-10-13T13:07:20.838733Z"
    }
   },
   "outputs": [],
   "source": [
    "# Funktion zur Berechnung der Varianz eines Bildes img mit gegebenem Mittelwert mean\n",
    "def calc_var(img, mean): \n",
    "    w = len(img[0])\n",
    "    h = len(img)\n",
    "\n",
    "    summe = 0.0\n",
    "    # ToDo: Implementieren Sie die Varianzberechnung hier\n",
    "    for reihe in range(h):\n",
    "        for pixel in range(w):\n",
    "            summe += (img[reihe, pixel] - mean) ** 2\n",
    "    return np.sqrt(summe/(w*h))"
   ]
  },
  {
   "cell_type": "code",
   "execution_count": 39,
   "id": "3a19b7a6",
   "metadata": {
    "ExecuteTime": {
     "end_time": "2023-10-13T13:07:22.766533300Z",
     "start_time": "2023-10-13T13:07:22.717057300Z"
    }
   },
   "outputs": [
    {
     "name": "stdout",
     "output_type": "stream",
     "text": [
      "Varianz der 4 Bilder:  [104.67 102.34 101.27 100.45]\n"
     ]
    }
   ],
   "source": [
    "# Berechne Varianz für alle Bilder\n",
    "var = [calc_var(img_circle1, mean[0]), calc_var(img_circle2, mean[1]), \n",
    "       calc_var(img_circle3, mean[2]), calc_var(img_circle4, mean[3])]\n",
    "var = np.round(var, 2)\n",
    "print('Varianz der 4 Bilder: ', var)"
   ]
  },
  {
   "cell_type": "markdown",
   "id": "25f7817f",
   "metadata": {},
   "source": [
    "Dieser Varianzvergleich wird auch beim kontrastbestimmten Autofokus verwendet. Hierbei gilt die Annahme, dass ein Bild genau dann am schärfsten ist, wenn seine Varianz am höchsten ist. Dies führt in diesem Beispiel dazu, dass Bild 1 gewählt worden wäre."
   ]
  },
  {
   "cell_type": "markdown",
   "source": [
    "## Ergebnis\n",
    "Der Mittelwert und die Varianz verringern sich desto höher der Blur.\n",
    "\n",
    "- Mittelwert reduziert sich, weil ein Unschärfe-Filter die Pixelwerte in einem bestimmten Bereich kombiniert werden, um einen neuen Pixelwert zu erzeugen. Da helle und dunkle Pixel im Mittelwert dichter beieinander liegen, werden diese gemittelt und die Helligkeit des Bildes insgesamt verringert sich.\n",
    "\n",
    "- Varianz verringert sich, weil die Unterschiede zwischen den Pixelwerten in einem bestimmten Bereich verringert werden, indem sie durch den Mittelwert ersetzt werden. Dadurch werden die Pixelwerte homogener, und die Varianz nimmt ab, da die Abweichungen von diesem Mittelwert geringer werden."
   ],
   "metadata": {
    "collapsed": false
   },
   "id": "42b6d21e9ccf93af"
  }
 ],
 "metadata": {
  "kernelspec": {
   "display_name": "Python 3",
   "language": "python",
   "name": "python3"
  },
  "language_info": {
   "codemirror_mode": {
    "name": "ipython",
    "version": 3
   },
   "file_extension": ".py",
   "mimetype": "text/x-python",
   "name": "python",
   "nbconvert_exporter": "python",
   "pygments_lexer": "ipython3",
   "version": "3.8.10"
  }
 },
 "nbformat": 4,
 "nbformat_minor": 5
}
