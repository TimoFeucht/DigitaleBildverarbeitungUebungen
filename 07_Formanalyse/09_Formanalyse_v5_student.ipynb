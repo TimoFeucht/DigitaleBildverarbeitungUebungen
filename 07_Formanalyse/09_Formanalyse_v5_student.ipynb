{
 "cells": [
  {
   "cell_type": "markdown",
   "id": "e16ab499",
   "metadata": {},
   "source": [
    "# Formanalyse: Hough-Transformation"
   ]
  },
  {
   "cell_type": "code",
   "execution_count": 2,
   "id": "68f54b84",
   "metadata": {
    "ExecuteTime": {
     "end_time": "2023-11-13T16:03:45.077927400Z",
     "start_time": "2023-11-13T16:03:44.815036700Z"
    }
   },
   "outputs": [],
   "source": [
    "import cv2 as cv\n",
    "from matplotlib import pyplot as plt\n",
    "import numpy as np\n",
    "from skimage.transform import pyramid_gaussian, pyramid_expand\n",
    "import skimage\n",
    "from collections import defaultdict"
   ]
  },
  {
   "cell_type": "markdown",
   "id": "d7805646",
   "metadata": {},
   "source": [
    "## Akkumulator-Array mit Liniengleichung"
   ]
  },
  {
   "cell_type": "markdown",
   "id": "71b2a80c",
   "metadata": {},
   "source": [
    "### Aufgabe: Implementieren Sie Hough-Lines"
   ]
  },
  {
   "cell_type": "code",
   "execution_count": 9,
   "id": "93228364",
   "metadata": {
    "ExecuteTime": {
     "end_time": "2023-11-13T16:04:54.575737200Z",
     "start_time": "2023-11-13T16:04:54.567016500Z"
    }
   },
   "outputs": [],
   "source": [
    "# Akkumulator-Array\n",
    "def hough_lines(edges):\n",
    "    A = np.zeros(shape=(200,200))\n",
    "    # iteriere über gefundene Kanten (> threshold)\n",
    "    for edge in np.argwhere(edges > 0):\n",
    "        # iteriere über alle möglichen \"a\"-Werte (= Steigung)\n",
    "        for a in range(-100, 100):            \n",
    "            b = int(edge[0] - a * edge[1])\n",
    "            # A enthält folgende Achsen: \n",
    "            # a: -a_vals//2 .. a_vals//2\n",
    "            # b: 0 .. b_vals\n",
    "            # --> Mapping auf Array durch Addition von x_vals//2                        \n",
    "            A[int(a * 100) + 100, int(b)] += 1\n",
    "    return A, line_coeff"
   ]
  },
  {
   "cell_type": "code",
   "execution_count": 4,
   "id": "e2deba08-a13e-4800-a503-171fd36c676c",
   "metadata": {
    "ExecuteTime": {
     "end_time": "2023-11-13T16:03:46.991874600Z",
     "start_time": "2023-11-13T16:03:44.856501400Z"
    }
   },
   "outputs": [
    {
     "data": {
      "text/plain": "<Figure size 2000x1000 with 1 Axes>",
      "image/png": "[encoded data removed]"
     },
     "metadata": {},
     "output_type": "display_data"
    },
    {
     "ename": "NameError",
     "evalue": "name 'A' is not defined",
     "output_type": "error",
     "traceback": [
      "\u001B[1;31m---------------------------------------------------------------------------\u001B[0m",
      "\u001B[1;31mNameError\u001B[0m                                 Traceback (most recent call last)",
      "Cell \u001B[1;32mIn[4], line 6\u001B[0m\n\u001B[0;32m      3\u001B[0m plt\u001B[38;5;241m.\u001B[39mimshow(img, cmap\u001B[38;5;241m=\u001B[39m\u001B[38;5;124m'\u001B[39m\u001B[38;5;124mgray\u001B[39m\u001B[38;5;124m'\u001B[39m)\n\u001B[0;32m      4\u001B[0m plt\u001B[38;5;241m.\u001B[39mshow()\n\u001B[1;32m----> 6\u001B[0m A, line_coeff \u001B[38;5;241m=\u001B[39m hough_lines(img)\n\u001B[0;32m      7\u001B[0m \u001B[38;5;28mprint\u001B[39m(\u001B[38;5;124m'\u001B[39m\u001B[38;5;124mMaximum (\u001B[39m\u001B[38;5;124m'\u001B[39m, np\u001B[38;5;241m.\u001B[39mmax(A), \u001B[38;5;124m'\u001B[39m\u001B[38;5;124m) gefunden: \u001B[39m\u001B[38;5;124m'\u001B[39m, line_coeff)\n\u001B[0;32m      9\u001B[0m \u001B[38;5;66;03m# Anwendung der Liniengleichung für Anzeige im Originalbild\u001B[39;00m\n",
      "Cell \u001B[1;32mIn[3], line 4\u001B[0m, in \u001B[0;36mhough_lines\u001B[1;34m(edges)\u001B[0m\n\u001B[0;32m      2\u001B[0m \u001B[38;5;28;01mdef\u001B[39;00m \u001B[38;5;21mhough_lines\u001B[39m(edges):\n\u001B[1;32m----> 4\u001B[0m     \u001B[38;5;28;01mreturn\u001B[39;00m A, line_coeff\n",
      "\u001B[1;31mNameError\u001B[0m: name 'A' is not defined"
     ]
    }
   ],
   "source": [
    "img = cv.imread('./img/hough_simple.bmp', cv.IMREAD_GRAYSCALE)\n",
    "plt.figure(figsize=(20,10))\n",
    "plt.imshow(img, cmap='gray')\n",
    "plt.show()\n",
    "\n",
    "A, line_coeff = hough_lines(img)\n",
    "print('Maximum (', np.max(A), ') gefunden: ', line_coeff)\n",
    "\n",
    "# Anwendung der Liniengleichung für Anzeige im Originalbild\n",
    "out = np.zeros_like(img)\n",
    "for x in range(img.shape[0]):\n",
    "    for line in line_coeff:        \n",
    "        y = int(line[1] * x + line[0])\n",
    "        if (y >= 0) and (y < img.shape[1]):\n",
    "            out[x,y] = 128\n",
    "\n",
    "plt.figure()\n",
    "plt.imshow(img, cmap='gray')\n",
    "plt.imshow(out, cmap='inferno', alpha=0.5)\n",
    "plt.show()"
   ]
  },
  {
   "cell_type": "markdown",
   "id": "5660f71f-a783-439b-b26b-a9b168607e7d",
   "metadata": {},
   "source": [
    "## Anwendung zur Linienerkennung"
   ]
  },
  {
   "cell_type": "code",
   "execution_count": null,
   "id": "4078216f-e731-4d31-97fe-a907193cf08a",
   "metadata": {
    "ExecuteTime": {
     "end_time": "2023-11-13T16:03:47.003842500Z",
     "start_time": "2023-11-13T16:03:46.998856300Z"
    }
   },
   "outputs": [],
   "source": [
    "# Laden des Bildes\n",
    "img = cv.imread('./img/ex_lane.jpg', cv.IMREAD_GRAYSCALE)\n",
    "plt.figure(figsize=(20,10))\n",
    "plt.imshow(img, cmap='gray')\n",
    "plt.show()\n",
    "\n",
    "# Skalierung des Bildes\n",
    "h,w = img.shape\n",
    "ratio = 3\n",
    "kernel_size = 3\n",
    "low_threshold = 240\n",
    "pyr_elem = 6\n",
    "\n",
    "img_small = tuple(pyramid_gaussian(img, downscale=2))\n",
    "\n",
    "plt.figure()\n",
    "plt.title('Skaliertes Bild')\n",
    "plt.imshow(skimage.img_as_ubyte(img_small[pyr_elem]), cmap='gray')\n",
    "plt.show()\n",
    "\n",
    "# Kantenerkennung\n",
    "edges = cv.Canny(skimage.img_as_ubyte(img_small[pyr_elem]), low_threshold, low_threshold*ratio, kernel_size)\n",
    "edges = edges.reshape([img_small[pyr_elem].shape[0], img_small[pyr_elem].shape[1]])\n",
    "\n",
    "plt.figure()\n",
    "plt.imshow(edges, cmap='gray', vmin=0, vmax=255)\n",
    "plt.show()\n",
    "\n",
    "# Anwendung der Hough-Transformation\n",
    "A, line_coeff = hough_lines(edges)\n",
    "print('Maximum (', np.max(A), ') gefunden: ', line_coeff)\n",
    "\n",
    "# Anwendung der Liniengleichung für Anzeige im Originalbild\n",
    "out = np.zeros_like(edges)\n",
    "for x in range(edges.shape[0]):\n",
    "    for line in line_coeff:        \n",
    "        y = int(line[1] * x + line[0])\n",
    "        if (y >= 0) and (y < edges.shape[1]):\n",
    "            out[x,y] = 128\n",
    "\n",
    "\n",
    "# Skalierung des Bildes\n",
    "out_large = pyramid_expand(out, upscale=2**pyr_elem)\n",
    "\n",
    "plt.figure()\n",
    "plt.imshow(edges, cmap='gray')\n",
    "plt.imshow(out, cmap='inferno', alpha=0.5)\n",
    "plt.show()\n",
    "plt.figure()\n",
    "plt.imshow(img, cmap='gray')\n",
    "plt.imshow(out_large, cmap='inferno', alpha=0.5)\n",
    "plt.show()"
   ]
  },
  {
   "cell_type": "markdown",
   "id": "655af484-ed85-441f-b583-44faf0bfa256",
   "metadata": {},
   "source": [
    "## Akkumulator-Array mit Polar-Transformation "
   ]
  },
  {
   "cell_type": "code",
   "execution_count": null,
   "id": "aefbd0ab",
   "metadata": {
    "ExecuteTime": {
     "start_time": "2023-11-13T16:03:47.000851200Z"
    }
   },
   "outputs": [],
   "source": [
    "def hough_lines_polar(edges):    \n",
    "    # akku, thetas, rhos = hough_lines_polar(edges)\n",
    "    # akku: Akkumulator-Array (a -> theta, b -> rho)\n",
    "    # thetas: -90° .. 90°\n",
    "    # rhos: - sqrt(width^2 * height^2) .. sqrt(width^2 * height^2)\n",
    "\n",
    "\n",
    "    width, height = edges.shape\n",
    "    thetas = np.deg2rad(np.arange(-90.0, 90.0))\n",
    "    diag_len = int(np.ceil(np.sqrt(width * width + height * height)))\n",
    "    rhos = np.linspace(-diag_len, diag_len, 2*diag_len)\n",
    "\n",
    "    A = np.zeros(shape=(2*diag_len, len(thetas)))\n",
    "\n",
    "    # iteriere über gefundene Kanten (> threshold)\n",
    "    for edge in np.argwhere(edges > 0):\n",
    "        # iteriere über alle möglichen \"a\"-Werte (= Steigung)\n",
    "        for k in range(len(thetas)):            \n",
    "            rho = int(edge[0] * np.cos(thetas[k]) + edge[1] * np.sin(thetas[k]))            \n",
    "            # A enthält folgende Achsen: \n",
    "            # a: -a_vals//2 .. a_vals//2\n",
    "            # b: 0 .. b_vals\n",
    "            # --> Mapping auf Array durch Addition von x_vals//2                        \n",
    "            A[rho + diag_len, k] += 1\n",
    "\n",
    "    plt.figure(figsize=(10,20))\n",
    "    plt.title('Akkumulator-Array')\n",
    "    plt.imshow(A, cmap='inferno')\n",
    "    plt.xlabel('Theta (Winkel)')\n",
    "    plt.xticks(np.arange(0, len(thetas), step=45), np.round(np.deg2rad(np.arange(-90.0, 90.0, step=45)),2))\n",
    "    plt.ylabel('Rho (Distanz)')\n",
    "    plt.yticks(np.arange(0, 2*diag_len, step=10), np.arange(-diag_len, diag_len, step=10))\n",
    "    plt.show()    \n",
    "    \n",
    "    return A, thetas, rhos"
   ]
  },
  {
   "cell_type": "code",
   "execution_count": null,
   "id": "4b0830b8",
   "metadata": {
    "ExecuteTime": {
     "end_time": "2023-11-13T16:03:47.007831600Z",
     "start_time": "2023-11-13T16:03:47.006834400Z"
    }
   },
   "outputs": [],
   "source": [
    "# Test der Implementierung mit einem Punkt\n",
    "img = np.zeros((150,150))\n",
    "img[75, 75] = 1\n",
    "plt.figure(figsize=(20,10))\n",
    "plt.imshow(img, cmap='gray')\n",
    "plt.show()\n",
    "\n",
    "A, thetas, rhos = hough_lines_polar(img)\n",
    "line_coeff = np.argmax(A)\n",
    "rho = int(rhos[int(line_coeff / A.shape[1])])\n",
    "theta = thetas[int(line_coeff % A.shape[1])]\n",
    "theta_deg = np.rad2deg(theta)\n",
    "print('Maximum gefunden für rho=', rho, 'theta=', theta_deg, '.')\n",
    "#print(len(line_coeff))"
   ]
  },
  {
   "cell_type": "code",
   "execution_count": null,
   "id": "df903165-88eb-4371-8e64-c5bc55033874",
   "metadata": {
    "ExecuteTime": {
     "end_time": "2023-11-13T16:03:47.135521Z",
     "start_time": "2023-11-13T16:03:47.010823200Z"
    }
   },
   "outputs": [],
   "source": [
    "# Test der Implementierung mit zwei Punkten\n",
    "img = np.zeros((150,150))\n",
    "img[75, 75] = 1\n",
    "img[50, 50] = 1\n",
    "plt.figure(figsize=(20,10))\n",
    "plt.imshow(img, cmap='gray')\n",
    "plt.show()\n",
    "\n",
    "A, thetas, rhos = hough_lines_polar(img)\n",
    "line_coeff = np.argmax(A)\n",
    "rho = int(rhos[int(line_coeff / A.shape[1])])\n",
    "theta = thetas[int(line_coeff % A.shape[1])]\n",
    "theta_deg = np.rad2deg(theta)\n",
    "print('Maximum gefunden für rho=', rho, 'theta=', theta_deg, '.')\n",
    "\n",
    "# Anwendung der Liniengleichung für Anzeige im Originalbild\n",
    "out = np.zeros_like(img)\n",
    "for x in range(img.shape[0]):         \n",
    "    y = int(-np.cos(theta) / np.sin(theta) * x + rho / np.sin(theta))\n",
    "    if (y >= 0) and (y < img.shape[1]):\n",
    "        out[x,y] = 128\n",
    "\n",
    "plt.figure()\n",
    "plt.title('Rekonstruiertes Bild')\n",
    "plt.imshow(img, cmap='gray')\n",
    "plt.imshow(out, cmap='inferno', alpha=0.5)"
   ]
  },
  {
   "cell_type": "markdown",
   "id": "68eccf6a",
   "metadata": {},
   "source": [
    "### Aufgabe: Circle Detection with Hough"
   ]
  },
  {
   "cell_type": "code",
   "execution_count": null,
   "id": "05d6ac20",
   "metadata": {
    "ExecuteTime": {
     "start_time": "2023-11-13T16:03:47.017806600Z"
    }
   },
   "outputs": [],
   "source": [
    "# Aufgabe: Implementieren Sie Hough Circles\n",
    "def hough_circles(edges, r_min = 5, r_max = 50, r_delta = 5):    \n",
    "    # akku, thetas, rhos = hough_circles(edges, rho_min, rho_max, rho_delta)    \n",
    "    # thetas: 0° .. 360°\n",
    "    # rhos: r_min .. r_max\n",
    "  \n",
    "    return A, thetas, rs\n",
    "\n",
    "# Test der Implementierung mit einem Punkt\n",
    "#img = np.zeros((150,150))\n",
    "img = cv.imread('./img/hough_circle.jpg', cv.IMREAD_GRAYSCALE)\n",
    "#img[75, 75] = 1\n",
    "#img[100,100] = 1\n",
    "plt.figure(figsize=(20,10))\n",
    "plt.imshow(img, cmap='gray')\n",
    "plt.show()\n",
    "\n",
    "A, thetas, rs = hough_circles(img)\n",
    "\n",
    "# durchsuche Accumulator-Array nach vielversprechenden Kandidaten (Voting > Threshold)\n",
    "# Kandidaten werden hierzu nach Voting sortiert\n",
    "bin_threshold = 0.75\n",
    "out_circles = []\n",
    "for candidate_circle, votes in sorted(A.items(), key=lambda i: -i[1]):\n",
    "    x, y, r = candidate_circle\n",
    "    current_vote_percentage = votes / len(thetas)\n",
    "    if current_vote_percentage >= bin_threshold: \n",
    "        # mögliche Kandidaten werden in Liste aufgenommen\n",
    "        out_circles.append((x, y, r, current_vote_percentage))\n",
    "        print(x, y, r, current_vote_percentage)\n",
    "\n",
    "out = np.zeros_like(img)\n",
    "for x,y,r,v in out_circles:    \n",
    "    out = cv.circle(out, (x,y), r, 255, 1)\n",
    "\n",
    "plt.figure()\n",
    "plt.imshow(out, cmap='gray'); plt.title('Resultat von Hough-Circles'); plt.show()"
   ]
  },
  {
   "cell_type": "markdown",
   "id": "71e10318",
   "metadata": {},
   "source": [
    "### Aufgabe: Nutzen Sie die OpenCV-Methode cv.HoughCircles zur Kreiserkennung"
   ]
  },
  {
   "cell_type": "code",
   "execution_count": null,
   "id": "6db4f57d",
   "metadata": {
    "ExecuteTime": {
     "start_time": "2023-11-13T16:03:47.027778Z"
    }
   },
   "outputs": [],
   "source": [
    "# detect circles in the image with OpenCV\n"
   ]
  },
  {
   "cell_type": "markdown",
   "metadata": {},
   "source": [
    "# Curve Fitting"
   ],
   "id": "c8f6ad75aac497d3"
  },
  {
   "cell_type": "code",
   "execution_count": null,
   "metadata": {
    "ExecuteTime": {
     "start_time": "2023-11-13T16:03:47.030770400Z"
    }
   },
   "outputs": [],
   "source": [
    "# Anscombes Quartett\n",
    "x = [10, 8, 13, 9, 11, 14, 6, 4, 12, 7, 5]\n",
    "y1 = [8.04, 6.95, 7.58, 8.81, 8.33, 9.96, 7.24, 4.26, 10.84, 4.82, 5.68]\n",
    "y2 = [9.14, 8.14, 8.74, 8.77, 9.26, 8.10, 6.13, 3.10, 9.13, 7.26, 4.74]\n",
    "y3 = [7.46, 6.77, 12.74, 7.11, 7.81, 8.84, 6.08, 5.39, 8.15, 6.42, 5.73]\n",
    "x4 = [8, 8, 8, 8, 8, 8, 8, 19, 8, 8, 8]\n",
    "y4 = [6.58, 5.76, 7.71, 8.84, 8.47, 7.04, 5.25, 12.50, 5.56, 7.91, 6.89]"
   ],
   "id": "435d35ffbfaf83c7"
  },
  {
   "cell_type": "markdown",
   "metadata": {},
   "source": [
    "## Linear Regression\n",
    "In diesem Kapitel wird das Ergebnis einer eigenen linearen Regression mit der von NumPy verglichen."
   ],
   "id": "9e71ff13b33e9b78"
  },
  {
   "cell_type": "code",
   "execution_count": null,
   "metadata": {
    "ExecuteTime": {
     "start_time": "2023-11-13T16:03:47.038748700Z"
    }
   },
   "outputs": [],
   "source": [
    "# Beispielanwendung auf Daten (x, y1)\n",
    "# Aufgabe: implementieren Sie ein Polynomfitting für ein Polynom 1. Grades und vergleichen Sie es mit np.polyfit-Ergebnissen\n",
    "\n",
    "\n",
    "# Aufgabe: Implementieren Sie das Bestimmtheitsmaß und vergleichen Sie so Ihre Regression\n"
   ],
   "id": "4ccbd8d577947857"
  },
  {
   "cell_type": "markdown",
   "metadata": {},
   "source": [
    "## Polynom-Fitting"
   ],
   "id": "2de4f43d8a763755"
  },
  {
   "cell_type": "code",
   "execution_count": null,
   "metadata": {
    "ExecuteTime": {
     "start_time": "2023-11-13T16:03:47.104604800Z"
    }
   },
   "outputs": [],
   "source": [
    "# Beispielanwendung auf Daten (x, y1)\n",
    "w1_1, w1_0 = np.polyfit(x, y1, 1)                                       # wende Polynom-Fitting 1. Grades auf Datenreihe an\n",
    "w2_2, w2_1, w2_0 = np.polyfit(x, y1, 2)                                 # wende Polynom-Fitting 2. Grades auf Datenreihe an\n",
    "w3_3, w3_2, w3_1, w3_0 = np.polyfit(x, y1, 3)                           # wende Polynom-Fitting 3. Grades auf Datenreihe an\n",
    "w4_7, w4_6, w4_5, w4_4, w4_3, w4_2, w4_1, w4_0 = np.polyfit(x, y1, 7)   # wende Polynom-Fitting 7. Grades auf Datenreihe an\n",
    "\n",
    "# berechne x- und y-Koordinaten mit gefunedenen Parametern\n",
    "xn = np.linspace(0, 20, 100)        # x-Koordinaten\n",
    "x = np.array(x)\n",
    "yn1 = w1_1 * xn + w1_0                                      # Polynom 1. Grades\n",
    "yn2 = w2_2 * xn**2 + w2_1 * xn + w2_0                       # Polynom 2. Grades\n",
    "yn3 = w3_3 * xn**3 + w3_2 * xn**2 + w3_1 * xn + w3_0        # Polynom 3. Grades\n",
    "yn7 = w4_7 * xn**7 + w4_6 * xn**6 + w4_5 * xn**5 + w4_4 * xn**4 + w3_3 * xn**3 + w3_2 * xn**2 + w3_1 * xn + w3_0        # Polynom 7. Grades\n",
    "\n",
    "plt.figure(figsize=(20,5))\n",
    "plt.plot(x,y1,'ob',label='Daten'); \n",
    "plt.plot(xn,yn1,'-r',label='Polyn. 1. Grades'); \n",
    "plt.plot(xn,yn2,'-g',label='Polyn. 2. Grades'); \n",
    "plt.plot(xn,yn3,'-k',label='Polyn. 3. Grades');  \n",
    "plt.plot(xn,yn3,'-c',label='Polyn. 7. Grades');  \n",
    "plt.legend(); plt.show()"
   ],
   "id": "3dbe3d81d6023563"
  },
  {
   "cell_type": "markdown",
   "metadata": {},
   "source": [
    "## Overfitting"
   ],
   "id": "bb799a450b562875"
  },
  {
   "cell_type": "code",
   "execution_count": null,
   "metadata": {
    "ExecuteTime": {
     "start_time": "2023-11-13T16:03:47.111586900Z"
    }
   },
   "outputs": [],
   "source": [
    "x = [2,3,4,5,6,7,8,9]\n",
    "y1 = [8,7.8,8.5,9.8,10,8.5,10.5,10.3]\n",
    "\n",
    "# Beispielanwendung auf Daten (x, y1)\n",
    "w1_1, w1_0 = np.polyfit(x, y1, 1)                                       # wende Polynom-Fitting 1. Grades auf Datenreihe an\n",
    "w = np.polyfit(x, y1, 6)   # wende Polynom-Fitting 7. Grades auf Datenreihe an\n",
    "\n",
    "# berechne x- und y-Koordinaten mit gefunedenen Parametern\n",
    "xn = np.linspace(0, 10, 100)        # x-Koordinaten\n",
    "x = np.array(x)\n",
    "yn1 = w1_1 * xn + w1_0              # Polynom 1. Grades\n",
    "yn = np.poly1d(w)                   # Polynom 6. Grades\n",
    "\n",
    "plt.figure(figsize=(20,5))\n",
    "plt.plot(x,y1,'ob',label='Daten'); \n",
    "plt.plot(xn,yn1,'-r',label='Polyn. 1. Grades'); \n",
    "plt.plot(xn,yn(xn),'-c',label='Polyn. 6. Grades');  \n",
    "plt.ylim(0,15)\n",
    "plt.legend(); plt.show()"
   ],
   "id": "501ebda8607ac207"
  },
  {
   "cell_type": "markdown",
   "id": "095963e9",
   "metadata": {},
   "source": [
    "## Aufgabe: Ermitteln Sie die Funktion in der Abbildung"
   ]
  },
  {
   "cell_type": "code",
   "execution_count": null,
   "id": "3b8e8779",
   "metadata": {
    "ExecuteTime": {
     "start_time": "2023-11-13T16:03:47.116573200Z"
    }
   },
   "outputs": [],
   "source": [
    "x_n = [-20, -19, -18, -17, -16, -15, -14, -13, -12, -11, -10,  -9,  -8,  -7,  -6,  -5,  -4,  -3,\n",
    "  -2,  -1,   0,   1,   2,   3,   4,   5,   6,   7,   8,   9,  10,  11,  12,  13,  14,  15,  16,  17,  18,  19]\n",
    "\n",
    "y_n = [-36823, -31428, -26587, -22270, -18447, -15088, -12163,  -9642,  -7495,  -5692,\n",
    "  -4203,  -2998,  -2047,  -1320,   -787,   -418,   -183,    -52,      5,     18,\n",
    "     17,     32,     93,    230,    473,    852,   1397,   2138,   3105,   4328,\n",
    "   5837,   7662,   9833,  12380,  15333,  18722,  22577,  26928,  31805,  37238]\n",
    "\n",
    "   "
   ]
  },
  {
   "cell_type": "markdown",
   "id": "c3819fba",
   "metadata": {},
   "source": [
    "# Anscombes Quartett\n"
   ]
  },
  {
   "cell_type": "code",
   "execution_count": null,
   "id": "8180d00c",
   "metadata": {
    "ExecuteTime": {
     "start_time": "2023-11-13T16:03:47.120561600Z"
    }
   },
   "outputs": [],
   "source": [
    "datasets = {\n",
    "    'I': (x, y1),\n",
    "    'II': (x, y2),\n",
    "    'III': (x, y3),\n",
    "    'IV': (x4, y4)\n",
    "}\n",
    "\n",
    "fig, axs = plt.subplots(2, 2, sharex=True, sharey=True, figsize=(6, 6),\n",
    "                        gridspec_kw={'wspace': 0.08, 'hspace': 0.08})\n",
    "axs[0, 0].set(xlim=(0, 20), ylim=(2, 14))\n",
    "axs[0, 0].set(xticks=(0, 10, 20), yticks=(4, 8, 12))\n",
    "\n",
    "# iteriere über Datensätze und Plot-Quadranten\n",
    "for ax, (label, (x, y)) in zip(axs.flat, datasets.items()):\n",
    "    ax.text(0.1, 0.9, label, fontsize=20, transform=ax.transAxes, va='top')\n",
    "    ax.tick_params(direction='in', top=True, right=True)\n",
    "    ax.plot(x, y, 'o')\n",
    "\n",
    "    # linear regression\n",
    "    w1, w0 = np.polyfit(x, y, deg=1)  # slope, intercept\n",
    "    ax.axline(xy1=(0, w0), slope=w1, color='r', lw=2)\n",
    "\n",
    "    # add text box for the statistics\n",
    "    stats = (f'$\\\\mu$ = {np.mean(y):.2f}\\n'\n",
    "             f'$\\\\sigma$ = {np.std(y):.2f}\\n'\n",
    "             f'$r$ = {np.corrcoef(x, y)[0][1]:.2f}')\n",
    "    bbox = dict(boxstyle='round', fc='blanchedalmond', ec='orange', alpha=0.5)\n",
    "    ax.text(0.95, 0.07, stats, fontsize=9, bbox=bbox,\n",
    "            transform=ax.transAxes, horizontalalignment='right')\n"
   ]
  },
  {
   "cell_type": "code",
   "execution_count": null,
   "id": "2f896593",
   "metadata": {
    "ExecuteTime": {
     "start_time": "2023-11-13T16:03:47.124552900Z"
    }
   },
   "outputs": [],
   "source": []
  }
 ],
 "metadata": {
  "interpreter": {
   "hash": "ec5dce2c6a4371d922385b939ea3c320bd8a9efa64a599cc1634d0229d94dbc6"
  },
  "kernelspec": {
   "name": "python3",
   "language": "python",
   "display_name": "Python 3 (ipykernel)"
  },
  "language_info": {
   "codemirror_mode": {
    "name": "ipython",
    "version": 3
   },
   "file_extension": ".py",
   "mimetype": "text/x-python",
   "name": "python",
   "nbconvert_exporter": "python",
   "pygments_lexer": "ipython3",
   "version": "3.8.10"
  },
  "toc-autonumbering": false,
  "toc-showcode": false,
  "toc-showmarkdowntxt": false
 },
 "nbformat": 4,
 "nbformat_minor": 5
}
